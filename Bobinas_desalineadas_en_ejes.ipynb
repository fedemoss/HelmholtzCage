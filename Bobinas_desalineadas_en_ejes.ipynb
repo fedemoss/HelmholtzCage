{
  "nbformat": 4,
  "nbformat_minor": 0,
  "metadata": {
    "colab": {
      "name": "Bobinas desalineadas en ejes.ipynb",
      "provenance": [],
      "collapsed_sections": [],
      "include_colab_link": true
    },
    "kernelspec": {
      "name": "python3",
      "display_name": "Python 3"
    }
  },
  "cells": [
    {
      "cell_type": "markdown",
      "metadata": {
        "id": "view-in-github",
        "colab_type": "text"
      },
      "source": [
        "<a href=\"https://colab.research.google.com/github/fedemoss/HelmholtzCage/blob/main/Bobinas_desalineadas_en_ejes.ipynb\" target=\"_parent\"><img src=\"https://colab.research.google.com/assets/colab-badge.svg\" alt=\"Open In Colab\"/></a>"
      ]
    },
    {
      "cell_type": "markdown",
      "metadata": {
        "id": "8W3EViWpDp1q"
      },
      "source": [
        "**El objetivo de este código es estudiar como varía la homogeneidad para un par de bobinas cuadradas y circulares al perder su coaxialidad**"
      ]
    },
    {
      "cell_type": "code",
      "metadata": {
        "id": "P1yZQqo_qHPs"
      },
      "source": [
        "import math\n",
        "import numpy as np\n",
        "from scipy.integrate import quad\n",
        "from numpy import sqrt, sin, cos, pi\n",
        "from matplotlib import pyplot as plt"
      ],
      "execution_count": null,
      "outputs": []
    },
    {
      "cell_type": "code",
      "metadata": {
        "id": "pAXftNlwqPMv"
      },
      "source": [
        "## Constantes:\n",
        "## Todo está en SI\n",
        "\n",
        "N = 40  ## número de vueltas \n",
        "I = 1   ## corriente\n",
        "u0 = 1.256637062* 10 ** (-6)  ## permeabilidad magnética del vacío\n",
        "C = u0 * N * I / (4 * np.pi)"
      ],
      "execution_count": null,
      "outputs": []
    },
    {
      "cell_type": "markdown",
      "metadata": {
        "id": "YQbSUjh5qSLH"
      },
      "source": [
        "**DEFINICIÓN CAMPO DE JAULA CIRCULAR (ES PARA UN PAR CON SEPARACIÓN D, HAY QUE INTEGRAR ESTAS EXPRESIONES)**"
      ]
    },
    {
      "cell_type": "code",
      "metadata": {
        "id": "q8hDADbeqQaZ"
      },
      "source": [
        "## Término que aparece en común a todos los campos\n",
        "\n",
        "def terminoDivisorup(u, z, x, y, r, d):\n",
        "    return ((z + d/2)**2 + (x - r * cos(u))**2 + (y - r * sin(u))**2)**(3/2)\n",
        "  \n",
        "def terminoDivisordown(u, z, x, y, r, d):\n",
        "    return ((z - d/2)**2 + (x - r * cos(u))**2 + (y - r * sin(u))**2)**(3/2) \n",
        "\n",
        "## Campo en la dirección axial (eje z) para las dos bobinas en cartesianas (Bz)\n",
        "\n",
        "def dBzup(u, z, x, y, r, d):\n",
        "    return 10**(-7) * r * N * I * (r - x * cos(u) - y * sin(u)) / terminoDivisorup(u, z, x, y, r, d)\n",
        "\n",
        "def dBzdown(u, z, x, y, r, d):\n",
        "    return 10**(-7) * r * N * I * (r - x * cos(u) - y * sin(u)) / terminoDivisordown(u, z, x, y, r, d) \n",
        "\n",
        "## Componente x del campo (par de bobinas)\n",
        "\n",
        "def dBxup(u, z, x, y, r, d):\n",
        "    return 10**(-7) * r * N * I * (z + d/2) * cos(u)/terminoDivisorup(u, z, x, y, r, d)\n",
        " \n",
        "def dBxdown(u, z, x, y, r, d):\n",
        "    return 10**(-7) * r * N * I * (z - d/2) * cos(u)/terminoDivisordown(u, z, x, y, r, d)\n",
        "\n",
        "## Componente y del campo (par de bobinas)\n",
        "\n",
        "def dByup(u, z, x, y, r, d):\n",
        "    return 10**(-7) * r * N * I * (z + d/2) * sin(u)/terminoDivisorup(u, z, x, y, r, d)\n",
        " \n",
        "def dBydown(u, z, x, y, r, d):\n",
        "    return 10**(-7) * r * N * I * (z - d / 2) * sin(u)/terminoDivisordown(u, z, x, y, r, d)  "
      ],
      "execution_count": null,
      "outputs": []
    },
    {
      "cell_type": "markdown",
      "metadata": {
        "id": "mqGI_YQNqcdA"
      },
      "source": [
        "**DEFINICIÓN DE CAMPO DE JAULA CUADRADA EN EL EJE AXIAL (PARA UN PAR CON SEPARACIÓN D)**\n",
        "\n"
      ]
    },
    {
      "cell_type": "code",
      "metadata": {
        "id": "Y0NCRtklqQmg"
      },
      "source": [
        "## Campo en el eje axial en cartesianas (Bz)\n",
        "## La expresión es muy grande por lo tanto la separamos en varias partes\n",
        "## bobinas a d/2 y -d/2 en el eje z con respecto al centro\n",
        "\n",
        "def SBz1up(z, x, y, l, d):\n",
        "    factorcomun = (x + l / 2)/((x + l / 2) ** 2 + (z + d / 2) ** 2)\n",
        "    izquierda = (l / 2 - y) / np.sqrt((y - l /2) ** 2 + (x + l / 2) ** 2 + (z + d / 2) ** 2)\n",
        "    derecha = (l / 2 + y) / np.sqrt((y + l / 2) ** 2 + (x + l / 2) ** 2 + (z + d / 2) ** 2)\n",
        "    return C * factorcomun * (izquierda + derecha)\n",
        "\n",
        "def SBz2up(z, x, y, l, d):\n",
        "    factorcomun = (x - l / 2)/((x - l / 2) ** 2 + (z + d / 2) ** 2)\n",
        "    izquierda = (l / 2 - y) / np.sqrt((y - l /2) ** 2 + (x - l / 2) ** 2 + (z + d / 2) ** 2)\n",
        "    derecha = (l / 2 + y) / np.sqrt((y + l / 2) ** 2 + (x - l / 2) ** 2 + (z + d / 2) ** 2)\n",
        "    return C * factorcomun * (izquierda + derecha)\n",
        "\n",
        "def SBz3up(z, x, y, l, d):\n",
        "    factorcomun = (y + l / 2)/((y + l / 2) ** 2 + (z + d / 2) ** 2)\n",
        "    izquierda = (l / 2 - x) / np.sqrt((x - l /2) ** 2 + (y + l / 2) ** 2 + (z + d / 2) ** 2)     ## ojo acá\n",
        "    derecha = (l / 2 + x) / np.sqrt((y + l / 2) ** 2 + (x + l / 2) ** 2 + (z + d / 2) ** 2)\n",
        "    return C * factorcomun * (izquierda + derecha)\n",
        "\n",
        "def SBz4up(z, x, y, l, d):\n",
        "    factorcomun = (y - l / 2)/((y - l / 2) ** 2 + (z + d / 2) ** 2)\n",
        "    izquierda = (l / 2 - x) / np.sqrt((x - l /2) ** 2 + (y - l / 2) ** 2 + (z + d / 2) ** 2)\n",
        "    derecha = (l / 2 + x) / np.sqrt((y - l / 2) ** 2 + (x + l / 2) ** 2 + (z + d / 2) ** 2)\n",
        "    return C * factorcomun * (izquierda + derecha)\n",
        "\n",
        "## Esta es la función que importa\n",
        "\n",
        "def SBzup(z, x, y, l, d):\n",
        "    return SBz1up(z, x, y, l, d) - SBz2up(z, x, y, l, d) + SBz3up(z, x, y, l, d) - SBz4up(z, x, y, l, d)\n",
        "\n",
        "## Campo en el eje axial para la otra bobina\n",
        "\n",
        "def SBz1down(z, x, y, l, d):\n",
        "    factorcomun = (x + l / 2)/((x + l / 2) ** 2 + (z - d / 2) ** 2)\n",
        "    izquierda = (l / 2 - y) / np.sqrt((y - l /2) ** 2 + (x + l / 2) ** 2 + (z - d / 2) ** 2)\n",
        "    derecha = (l / 2 + y) / np.sqrt((y + l / 2) ** 2 + (x + l / 2) ** 2 + (z - d / 2) ** 2)\n",
        "    return C * factorcomun * (izquierda + derecha)\n",
        "\n",
        "def SBz2down(z, x, y, l, d):\n",
        "    factorcomun = (x - l / 2)/((x - l / 2) ** 2 + (z - d / 2) ** 2)\n",
        "    izquierda = (l / 2 - y) / np.sqrt((y - l /2) ** 2 + (x - l / 2) ** 2 + (z - d / 2) ** 2)\n",
        "    derecha = (l / 2 + y) / np.sqrt((y + l / 2) ** 2 + (x - l / 2) ** 2 + (z - d / 2) ** 2)\n",
        "    return C * factorcomun * (izquierda + derecha)\n",
        "\n",
        "def SBz3down(z, x, y, l, d):\n",
        "    factorcomun = (y + l / 2)/((y + l / 2) ** 2 + (z - d / 2) ** 2)\n",
        "    izquierda = (l / 2 - x) / np.sqrt((x - l /2) ** 2 + (y + l / 2) ** 2 + (z - d / 2) ** 2)\n",
        "    derecha = (l / 2 + x) / np.sqrt((y + l / 2) ** 2 + (x + l / 2) ** 2 + (z - d / 2) ** 2)\n",
        "    return C * factorcomun * (izquierda + derecha)\n",
        "\n",
        "def SBz4down(z, x, y, l, d):\n",
        "    factorcomun = (y - l / 2)/((y - l / 2) ** 2 + (z - d / 2) ** 2)\n",
        "    izquierda = (l / 2 - x) / np.sqrt((x - l /2) ** 2 + (y - l / 2) ** 2 + (z - d / 2) ** 2)\n",
        "    derecha = (l / 2 + x) / np.sqrt((y - l / 2) ** 2 + (x + l / 2) ** 2 + (z - d / 2) ** 2)\n",
        "    return C * factorcomun * (izquierda + derecha)\n",
        "\n",
        "## Este es la otra función que importa\n",
        "\n",
        "def SBzdown(z, x, y, l, d):\n",
        "    return SBz1down(z, x, y, l, d) - SBz2down(z, x, y, l, d) + SBz3down(z, x, y, l, d) - SBz4down(z, x, y, l, d)"
      ],
      "execution_count": null,
      "outputs": []
    },
    {
      "cell_type": "markdown",
      "metadata": {
        "id": "a5SLYMkxq9cp"
      },
      "source": [
        "**Cálculo de las variaciones de la homogeneidad para la circular**"
      ]
    },
    {
      "cell_type": "code",
      "metadata": {
        "id": "LFLMK8QnqQyv"
      },
      "source": [
        "## ERROR DE CONSTRUCCIÓN: no coaxialidad a lo largo de y e x [CIRCULAR]\n",
        "\n",
        "r = 0.5  # radio de la bobina\n",
        "d = r    # distancia ideal\n",
        "dy = np.linspace(0, 0.05, 50)  # Nos vamos a mover hasta 5cm con respecto del eje y\n",
        "dx = np.linspace(0, 0.05, 50)  # \"\"  \"\" con respecto del eje x\n",
        "dimensiony = 1  # tamaño del cubesat\n",
        "dimensionx = 1\n",
        "dimensionz = 1\n",
        "x = dimensionx/20  # borde del Cubesat (5cm)\n",
        "y = dimensiony/20  # borde del CubeSat (5cm)\n",
        "z = np.linspace(0, dimensionz / 20, 200) # vamos a ver desde el punto (x, y, 0) hasta el borde del CubeSat (x, y, 5cm)\n",
        "Bzcirclez = np.zeros(len(z))  # array para el campo en z, variando en z  \"\" \"\"\n",
        "HomogeneidadCx = np.zeros(len(dx))  # array donde se guardan la homogeneidad para cada variación dx\n",
        "HomogeneidadCy = np.zeros(len(dy))  # \"\" \"\" para cada variación dy\n",
        "\n",
        "## Lo que hacemos es desfasar a alguna de las bobinas en dy, y luego iteramos en los valores de z\n",
        "## para calcular el campo en el eje axial posicionado en (x, y + dy). Por último, calculamos \n",
        "## el campo en el centro y tomamos el máximo de la homogeneidad (que lo guaradamos en el array HomogeneidadCx)\n",
        "\n",
        "for h in range(len(dy)):\n",
        "  for i in range(len(z)):\n",
        "    # calculamos el campo en z usando cuadraturas\n",
        "    Lz = quad(dBzup, 0, 2*np.pi, args=(z[i], x, y + dy[h], r, d)) + quad(dBzdown, 0, 2*np.pi, args=(z[i], x, y, r, d))\n",
        "    Bzcirclez[i] = (Lz[0] + Lz[2]) * 10 ** 6\n",
        "  # campo en el centro\n",
        "  Lz0y = quad(dBzup, 0, 2*np.pi, args=(0, 0, 0 + dy[h], r, d)) + quad(dBzdown, 0, 2*np.pi, args=(0, 0, 0, r, d))\n",
        "  Bz0y = (Lz0y[0] + Lz0y[2]) * 10 ** 6\n",
        "  # tomamos el máximo, esa es la homogeneidad\n",
        "  HomogeneidadCx[h] = max(abs(Bzcirclez - Bz0y) / abs(Bz0y)) * 10 ** 6\n",
        "\n",
        "## Lo mismo que antes pero variando en dx una de las bobinas.\n",
        "\n",
        "for h in range(len(dx)):\n",
        "  for i in range(len(z)):\n",
        "    Lz = quad(dBzup, 0, 2*np.pi, args=(z[i], x + dx[h], y, r, d)) + quad(dBzdown, 0, 2*np.pi, args=(z[i], x, y, r, d))\n",
        "    Bzcirclez[i] = (Lz[0] + Lz[2]) * 10 ** 6\n",
        "  Lz0x = quad(dBzup, 0, 2*np.pi, args=(0, 0 + dx[h], 0, r, d)) + quad(dBzdown, 0, 2*np.pi, args=(0, 0, 0, r, d))\n",
        "  Bz0x = (Lz0x[0] + Lz0x[2]) * 10 ** 6\n",
        "  HomogeneidadCy[h] = max(abs(Bzcirclez - Bz0x) / abs(Bz0x)) * 10 ** 6\n",
        "\n"
      ],
      "execution_count": null,
      "outputs": []
    },
    {
      "cell_type": "markdown",
      "metadata": {
        "id": "HmlQDWS0q2AU"
      },
      "source": [
        "**Cálculo de las variaciones de homogeneidad para la cuadrada**"
      ]
    },
    {
      "cell_type": "code",
      "metadata": {
        "id": "q2EDEHn0shI4"
      },
      "source": [
        "#ERROR DE CONSTRUCCIÓN: no coaxialidad a lo largo de y e x [CUADRADA]\n",
        "\n",
        "l = 1  # largo de la bobina\n",
        "d = 0.5445 * l # distancia ideal\n",
        "dy = np.linspace(0, 0.05, 50) #  Nos vamos a mover hasta 5cm con respecto del eje y\n",
        "dx = np.linspace(0, 0.05, 50) #  \"\" \"\" hasta 5cm con respecto del eje x\n",
        "dimensiony = 1  # dimensiones del CubeSat\n",
        "dimensionx = 1\n",
        "dimensionz = 1\n",
        "x = dimensionx/20  # borde del Cubesat (5cm)\n",
        "y = dimensiony/20  # borde del CubeSat (5cm)\n",
        "z = np.linspace(0, dimensionz / 20, 200) # vamos a ver desde el punto (x, y, 0) hasta el borde del CubeSat (x, y, 5cm)\n",
        "Bzsquarez = np.zeros(len(z))  # array para el campo en z, variando en z\n",
        "HomogeneidadSx = np.zeros(len(dx))  # array donde se guardan la homogeneidad para cada variación dx\n",
        "HomogeneidadSy = np.zeros(len(dy))  # \"\" \"\" para cada variación en dy\n",
        "\n",
        "## Lo mismo que el loop para la circular para dx,con la diferencia que no hay que integrar (se evalua directamente)\n",
        "\n",
        "for h in range(len(dx)):\n",
        "  for i in range(len(z)):\n",
        "    # cálculo del array del campo\n",
        "    Bzsquarez[i] = SBzdown(z[i], x, y, l, d) + SBzup(z[i], x + dx[h], y, l, d)   \n",
        "  # Campo en el centro\n",
        "  Bz0 = SBzdown(0, 0, 0, l, d) + SBzup(0, dx[h], 0, l, d)\n",
        "  # Cálculo de la homogeneidad\n",
        "  HomogeneidadSx[h] = max(abs(Bzsquarez - Bz0) / abs(Bz0)) * 10 ** 6  \n",
        "\n",
        "#Lo mismo que antes pero para dy\n",
        "\n",
        "for h in range(len(dy)):\n",
        "  for i in range(len(z)):\n",
        "      Bzsquarez[i] = SBzdown(z[i], x, y, l, d) + SBzup(z[i], x, y + dy[h], l, d)\n",
        "  Bz0 = SBzdown(0, 0, 0, l, d) + SBzup(0, 0, dy[h], l, d)\n",
        "  HomogeneidadSy[h] = max(abs(Bzsquarez - Bz0) / abs(Bz0)) * 10 ** 6"
      ],
      "execution_count": null,
      "outputs": []
    },
    {
      "cell_type": "code",
      "metadata": {
        "colab": {
          "base_uri": "https://localhost:8080/",
          "height": 295
        },
        "id": "d74qZEa3shbN",
        "outputId": "228f8f35-bad5-43a9-ce73-357436d8f073"
      },
      "source": [
        "## gráfico de la homogeneidad en función del desplazamiento dx\n",
        "## Si en el código anterior se elije otro borde del cubesat (-5cm, -5cm)\n",
        "## se obtiene un gráfico distinto (el otro que aparece en el informe)\n",
        "\n",
        "plt.plot(dx, HomogeneidadSx,'red')\n",
        "plt.plot(dx, HomogeneidadCx,'blue')\n",
        "plt.xlabel('dx [m]')\n",
        "plt.ylabel('Homogeneidad [ppm]')\n",
        "plt.legend(['Bobinas cuadradas', 'Bobinas circulares'])\n",
        "plt.title('Desplazamiento dx de una de las bobinas')\n",
        "plt.grid()\n",
        "plt.show()"
      ],
      "execution_count": null,
      "outputs": [
        {
          "output_type": "display_data",
          "data": {
            "image/png": "[encoded data removed]",
            "text/plain": [
              "<Figure size 432x288 with 1 Axes>"
            ]
          },
          "metadata": {
            "tags": [],
            "needs_background": "light"
          }
        }
      ]
    },
    {
      "cell_type": "code",
      "metadata": {
        "colab": {
          "base_uri": "https://localhost:8080/",
          "height": 295
        },
        "id": "Y1LT87-ot13P",
        "outputId": "584ef928-c6b5-4e8a-82de-073f9e57c0af"
      },
      "source": [
        "# gráfico de la homogeneidad en función del desplazamiento en y\n",
        "\n",
        "plt.plot(dy, HomogeneidadSy,'red')\n",
        "plt.plot(dy, HomogeneidadCy,'blue')\n",
        "plt.xlabel('dy [m]')\n",
        "plt.ylabel('Homogeneidad [ppm]')\n",
        "plt.legend(['Bobinas cuadradas', 'Bobinas circulares'])\n",
        "plt.title('Desplazamiento dy de una de las bobinas')\n",
        "plt.grid()\n",
        "plt.show()"
      ],
      "execution_count": null,
      "outputs": [
        {
          "output_type": "display_data",
          "data": {
            "image/png": "[encoded data removed]",
            "text/plain": [
              "<Figure size 432x288 with 1 Axes>"
            ]
          },
          "metadata": {
            "tags": [],
            "needs_background": "light"
          }
        }
      ]
    }
  ]
}