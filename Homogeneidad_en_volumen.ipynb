{
  "nbformat": 4,
  "nbformat_minor": 0,
  "metadata": {
    "colab": {
      "name": "Homogeneidad en volumen.ipynb",
      "provenance": [],
      "collapsed_sections": [],
      "include_colab_link": true
    },
    "kernelspec": {
      "name": "python3",
      "display_name": "Python 3"
    }
  },
  "cells": [
    {
      "cell_type": "markdown",
      "metadata": {
        "id": "view-in-github",
        "colab_type": "text"
      },
      "source": [
        "<a href=\"https://colab.research.google.com/github/fedemoss/HelmholtzCage/blob/main/Homogeneidad_en_volumen.ipynb\" target=\"_parent\"><img src=\"https://colab.research.google.com/assets/colab-badge.svg\" alt=\"Open In Colab\"/></a>"
      ]
    },
    {
      "cell_type": "markdown",
      "metadata": {
        "id": "C_o9VDyMX-yG"
      },
      "source": [
        "**La idea de este código es estudiar la homogeneidad en cortes de distintos planos, y comprobar visualmente que podemos meter un cubesat con los parámetros elegidos de construcción**"
      ]
    },
    {
      "cell_type": "code",
      "metadata": {
        "id": "APx6f-3CjIkv"
      },
      "source": [
        "from scipy.integrate import quad\n",
        "import numpy as np\n",
        "from numpy import sqrt, sin, cos, pi\n",
        "from matplotlib import pyplot as plt\n",
        "import math \n",
        "\n",
        "u0 = 1.256637062*10**(-6) \n",
        "N = 40   # Número de vueltas\n",
        "I = 1   # Corriente"
      ],
      "execution_count": null,
      "outputs": []
    },
    {
      "cell_type": "markdown",
      "metadata": {
        "id": "6pcCSRGzgKgl"
      },
      "source": [
        "**Escribimos las ecuaciones de campo para el par de bobinas circulares:**"
      ]
    },
    {
      "cell_type": "code",
      "metadata": {
        "id": "7a8L3MLHjS8A"
      },
      "source": [
        "#BOBINAS CIRCULARES\n",
        "def terminoDivisorup(u, z, x, y, r):\n",
        "\treturn ((z + d/2)**2 + (x - r * cos(u))**2 + (y - r * sin(u))**2)**(3/2)\n",
        "\n",
        "## termino para la bobina a -d/2 \n",
        "def terminoDivisordown(u, z, x, y, r):\n",
        "\treturn ((z - d/2)**2 + (x - r * cos(u))**2 + (y - r * sin(u))**2)**(3/2) \n",
        "\n",
        "##Bx para la bobina en + d/2\n",
        "def dBxup(u, z, x, y, r):\n",
        "\treturn 10**(-7) * r * N * I * (z + d/2) * cos(u)/terminoDivisorup(u, z, x, y, r)\n",
        " \n",
        "##Bx para la bobina en -d/2\n",
        "def dBxdown(u, z, x, y, r):\n",
        "\treturn 10**(-7) * r * N * I * (z - d/2) * cos(u)/terminoDivisordown(u, z, x, y, r)\n",
        "\n",
        "### lo mismo que Bx\n",
        "def dByup(u, z, x, y, r):\n",
        "\treturn 10**(-7) * r * N * I * (z + d/2) * sin(u)/terminoDivisorup(u, z, x, y, r)\n",
        " \n",
        "def dBydown(u, z, x, y, r):\n",
        "\treturn 10**(-7) * r * N * I * (z - d/2) * sin(u)/terminoDivisordown(u, z, x, y, r) \n",
        "\n",
        "def dBzup(u, z, x, y, r):\n",
        "\treturn 10**(-7) * r * N * I * (r - x * cos(u) - y * sin(u)) / terminoDivisorup(u, z, x, y, r)\n",
        "\n",
        "def dBzdown(u, z, x, y, r):\n",
        "\treturn 10**(-7) * r * N * I * (r - x * cos(u) - y * sin(u)) / terminoDivisordown(u, z, x, y, r) "
      ],
      "execution_count": null,
      "outputs": []
    },
    {
      "cell_type": "markdown",
      "metadata": {
        "id": "bY1BtO-6gZ9R"
      },
      "source": [
        "**Para el par de bobinas cuadradas,  las ecuaciones de campo son las siguientes\n",
        ":**"
      ]
    },
    {
      "cell_type": "code",
      "metadata": {
        "id": "9tZiGn6CgVRH"
      },
      "source": [
        "#BOBINAS CUADRADAS\n",
        "\n",
        "C = u0 * N * I / (4 * np.pi) #constante\n",
        "##Bz Bobina a d/2\n",
        "\n",
        "def SBz1up(z, x, y, l, d):\n",
        "    factorcomun = (x + l / 2)/((x + l / 2) ** 2 + (z + d / 2) ** 2)\n",
        "    izquierda = (l / 2 - y) / np.sqrt((y - l /2) ** 2 + (x + l / 2) ** 2 + (z + d / 2) ** 2)\n",
        "    derecha = (l / 2 + y) / np.sqrt((y + l / 2) ** 2 + (x + l / 2) ** 2 + (z + d / 2) ** 2)\n",
        "    return C * factorcomun * (izquierda + derecha)\n",
        "\n",
        "def SBz2up(z, x, y, l, d):\n",
        "    factorcomun = (x - l / 2)/((x - l / 2) ** 2 + (z + d / 2) ** 2)\n",
        "    izquierda = (l / 2 - y) / np.sqrt((y - l /2) ** 2 + (x - l / 2) ** 2 + (z + d / 2) ** 2)\n",
        "    derecha = (l / 2 + y) / np.sqrt((y + l / 2) ** 2 + (x - l / 2) ** 2 + (z + d / 2) ** 2)\n",
        "    return C * factorcomun * (izquierda + derecha)\n",
        "\n",
        "def SBz3up(z, x, y, l, d):\n",
        "    factorcomun = (y + l / 2)/((y + l / 2) ** 2 + (z + d / 2) ** 2)\n",
        "    izquierda = (l / 2 - x) / np.sqrt((x - l /2) ** 2 + (y + l / 2) ** 2 + (z + d / 2) ** 2)     ## ojo acá\n",
        "    derecha = (l / 2 + x) / np.sqrt((y + l / 2) ** 2 + (x + l / 2) ** 2 + (z + d / 2) ** 2)\n",
        "    return C * factorcomun * (izquierda + derecha)\n",
        "\n",
        "def SBz4up(z, x, y, l, d):\n",
        "    factorcomun = (y - l / 2)/((y - l / 2) ** 2 + (z + d / 2) ** 2)\n",
        "    izquierda = (l / 2 - x) / np.sqrt((x - l /2) ** 2 + (y - l / 2) ** 2 + (z + d / 2) ** 2)\n",
        "    derecha = (l / 2 + x) / np.sqrt((y - l / 2) ** 2 + (x + l / 2) ** 2 + (z + d / 2) ** 2)\n",
        "    return C * factorcomun * (izquierda + derecha)\n",
        "\n",
        "def SBzup(z, x, y, l, d):\n",
        "    return SBz1up(z, x, y, l, d) - SBz2up(z, x, y, l, d) + SBz3up(z, x, y, l, d) - SBz4up(z, x, y, l, d)\n",
        "\n",
        "##Bz Bobina a -d/2\n",
        "\n",
        "def SBz1down(z, x, y, l, d):\n",
        "    factorcomun = (x + l / 2)/((x + l / 2) ** 2 + (z - d / 2) ** 2)\n",
        "    izquierda = (l / 2 - y) / np.sqrt((y - l /2) ** 2 + (x + l / 2) ** 2 + (z - d / 2) ** 2)\n",
        "    derecha = (l / 2 + y) / np.sqrt((y + l / 2) ** 2 + (x + l / 2) ** 2 + (z - d / 2) ** 2)\n",
        "    return C * factorcomun * (izquierda + derecha)\n",
        "\n",
        "def SBz2down(z, x, y, l, d):\n",
        "    factorcomun = (x - l / 2)/((x - l / 2) ** 2 + (z - d / 2) ** 2)\n",
        "    izquierda = (l / 2 - y) / np.sqrt((y - l /2) ** 2 + (x - l / 2) ** 2 + (z - d / 2) ** 2)\n",
        "    derecha = (l / 2 + y) / np.sqrt((y + l / 2) ** 2 + (x - l / 2) ** 2 + (z - d / 2) ** 2)\n",
        "    return C * factorcomun * (izquierda + derecha)\n",
        "\n",
        "def SBz3down(z, x, y, l, d):\n",
        "    factorcomun = (y + l / 2)/((y + l / 2) ** 2 + (z - d / 2) ** 2)\n",
        "    izquierda = (l / 2 - x) / np.sqrt((x - l /2) ** 2 + (y + l / 2) ** 2 + (z - d / 2) ** 2)\n",
        "    derecha = (l / 2 + x) / np.sqrt((y + l / 2) ** 2 + (x + l / 2) ** 2 + (z - d / 2) ** 2)\n",
        "    return C * factorcomun * (izquierda + derecha)\n",
        "\n",
        "def SBz4down(z, x, y, l, d):\n",
        "    factorcomun = (y - l / 2)/((y - l / 2) ** 2 + (z - d / 2) ** 2)\n",
        "    izquierda = (l / 2 - x) / np.sqrt((x - l /2) ** 2 + (y - l / 2) ** 2 + (z - d / 2) ** 2)\n",
        "    derecha = (l / 2 + x) / np.sqrt((y - l / 2) ** 2 + (x + l / 2) ** 2 + (z - d / 2) ** 2)\n",
        "    return C * factorcomun * (izquierda + derecha)\n",
        "\n",
        "def SBzdown(z, x, y, l, d):\n",
        "    return SBz1down(z, x, y, l, d) - SBz2down(z, x, y, l, d) + SBz3down(z, x, y, l, d) - SBz4down(z, x, y, l, d)\n",
        "\n",
        "## Campo en la componente x\n",
        "\n",
        "def SBx1up(z, x, y, l, d):\n",
        "    factorcomun = (z + d/2)/((x - l / 2) ** 2 + (z + d / 2) ** 2)\n",
        "    izquierda = (l / 2 - y) / np.sqrt((y - l /2) ** 2 + (x - l / 2) ** 2 + (z + d / 2) ** 2)\n",
        "    derecha = (l / 2 + y) / np.sqrt((y + l / 2) ** 2 + (x - l / 2) ** 2 + (z + d / 2) ** 2)\n",
        "    return C * factorcomun * (izquierda + derecha)\n",
        "\n",
        "def SBx2up(z, x, y, l, d):\n",
        "    factorcomun = (z + d/2)/((x + l / 2) ** 2 + (z + d / 2) ** 2)\n",
        "    izquierda = (l / 2 - y) / np.sqrt((y - l /2) ** 2 + (x + l / 2) ** 2 + (z + d / 2) ** 2)\n",
        "    derecha = (l / 2 + y) / np.sqrt((y + l / 2) ** 2 + (x + l / 2) ** 2 + (z + d / 2) ** 2)\n",
        "    return C * factorcomun * (izquierda + derecha)\n",
        "\n",
        "def SBxup(z, x, y, l, d):\n",
        "    return SBx1up(z, x, y, l, d) - SBx2up(z, x, y, l, d)\n",
        "\n",
        "def SBx1down(z, x, y, l, d):\n",
        "    factorcomun = (z - d/2)/((x - l / 2) ** 2 + (z - d / 2) ** 2)\n",
        "    izquierda = (l / 2 - y) / np.sqrt((y - l /2) ** 2 + (x - l / 2) ** 2 + (z - d / 2) ** 2)\n",
        "    derecha = (l / 2 + y) / np.sqrt((y + l / 2) ** 2 + (x - l / 2) ** 2 + (z - d / 2) ** 2)\n",
        "    return C * factorcomun * (izquierda + derecha)\n",
        "\n",
        "def SBx2down(z, x, y, l, d):\n",
        "    factorcomun = (z - d/2)/((x + l / 2) ** 2 + (z - d / 2) ** 2)\n",
        "    izquierda = (l / 2 - y) / np.sqrt((y - l /2) ** 2 + (x + l / 2) ** 2 + (z - d / 2) ** 2)\n",
        "    derecha = (l / 2 + y) / np.sqrt((y + l / 2) ** 2 + (x + l / 2) ** 2 + (z - d / 2) ** 2)\n",
        "    return C * factorcomun * (izquierda + derecha)\n",
        "\n",
        "def SBxdown(z, x, y, l, d):\n",
        "    return SBx1down(z, x, y, l, d) - SBx2down(z, x, y, l, d)\n",
        "\n",
        "## Campo en la componente y\n",
        "\n",
        "def SBy1up(z, x, y, l, d):\n",
        "    factorcomun = (z + d/2)/((y - l / 2) ** 2 + (z + d / 2) ** 2)\n",
        "    izquierda = (l / 2 - x) / np.sqrt((y - l /2) ** 2 + (x - l / 2) ** 2 + (z + d / 2) ** 2)\n",
        "    derecha = (l / 2 + x) / np.sqrt((y - l / 2) ** 2 + (x + l / 2) ** 2 + (z + d / 2) ** 2)\n",
        "    return C * factorcomun * (izquierda + derecha)\n",
        "\n",
        "def SBy2up(z, x, y, l, d):\n",
        "    factorcomun = (z + d/2)/((y + l / 2) ** 2 + (z + d / 2) ** 2)\n",
        "    izquierda = (l / 2 - x) / np.sqrt((y + l /2) ** 2 + (x - l / 2) ** 2 + (z + d / 2) ** 2)\n",
        "    derecha = (l / 2 + x) / np.sqrt((y + l / 2) ** 2 + (x + l / 2) ** 2 + (z + d / 2) ** 2)\n",
        "    return C * factorcomun * (izquierda + derecha)\n",
        "\n",
        "def SByup(z, x, y, l, d):\n",
        "    return SBy1up(z, x, y, l, d) - SBy2up(z, x, y, l, d)\n",
        "\n",
        "def SBy1down(z, x, y, l, d):\n",
        "    factorcomun = (z - d/2)/((y - l / 2) ** 2 + (z - d / 2) ** 2)\n",
        "    izquierda = (l / 2 - x) / np.sqrt((y - l /2) ** 2 + (x - l / 2) ** 2 + (z - d / 2) ** 2)\n",
        "    derecha = (l / 2 + x) / np.sqrt((y - l / 2) ** 2 + (x + l / 2) ** 2 + (z - d / 2) ** 2)\n",
        "    return C * factorcomun * (izquierda + derecha)\n",
        "\n",
        "def SBy2down(z, x, y, l, d):\n",
        "    factorcomun = (z - d/2)/((y + l / 2) ** 2 + (z - d / 2) ** 2)\n",
        "    izquierda = (l / 2 - x) / np.sqrt((y + l /2) ** 2 + (x - l / 2) ** 2 + (z - d / 2) ** 2)\n",
        "    derecha = (l / 2 + x) / np.sqrt((y + l / 2) ** 2 + (x + l / 2) ** 2 + (z - d / 2) ** 2)\n",
        "    return C * factorcomun * (izquierda + derecha)\n",
        "\n",
        "def SBydown(z, x, y, l, d):\n",
        "    return SBy1down(z, x, y, l, d) - SBy2down(z, x, y, l, d)"
      ],
      "execution_count": null,
      "outputs": []
    },
    {
      "cell_type": "markdown",
      "metadata": {
        "id": "JFStAZUqRR5K"
      },
      "source": [
        "**REGION DE HOMOGENEIDAD A 1000PPM DE BOBINAS CIRCULARES**"
      ]
    },
    {
      "cell_type": "code",
      "metadata": {
        "id": "zbyQIhP8jdlu"
      },
      "source": [
        "#BOBINAS CIRCULARES: CALCULO DE LA REGIÓN DE HOMOGENEIDAD\n",
        "r = 0.45 #radio [m]\n",
        "d = r #distancia de separación entre bobinas\n",
        "\n",
        "x = np.linspace(-r/2, r/2, 31) #hacemos barridos en x, y, z\n",
        "y = np.linspace(-r/2, r/2, 31)\n",
        "z = np.linspace(-r/2, r/2, 31)\n",
        "Bx = np.zeros((len(x),len(y),len(z))) #inicializamos el campo\n",
        "By = np.zeros((len(x),len(y),len(z)))\n",
        "Bz = np.zeros((len(x),len(y),len(z)))\n",
        "H = np.zeros((len(x),len(y),len(z))) #inicializamos la Homogeneidad\n",
        "\n",
        "restriccion = 1000 # Nuestra restricción de homogeneidad en ppm\n",
        "\n",
        "# integral numérica en cuadraturas para los campos en el centro     \n",
        "Lz0 = quad(dBzup, 0, 2 * np.pi, args=(0, 0, 0, r)) + quad(dBzdown, 0, 2*np.pi, args=(0, 0, 0, r))\n",
        "Ly0 = quad(dByup, 0, 2 * np.pi, args=(0, 0, 0, r)) + quad(dBydown, 0, 2*np.pi, args=(0, 0, 0, r))\n",
        "Lx0 = quad(dBxup, 0, 2 * np.pi, args=(0, 0, 0, r)) + quad(dBxdown, 0, 2*np.pi, args=(0, 0, 0, r))\n",
        "#Campos en el centro de la configuracion \n",
        "Bz0 = (Lz0[2] + Lz0[0]) * 10 ** 6\n",
        "Bx0 = (Lx0[2] + Lx0[0]) * 10 ** 6\n",
        "By0 = (Ly0[2] + Ly0[0]) * 10 ** 6 \n",
        "absB0 = np.sqrt(Bx0 ** 2 + By0 ** 2 + Bz0 ** 2)\n",
        "\n",
        "\n",
        "# Loop en el que integramos usando cuadraturas los términos definidos arriba\n",
        "for k in range(len(z)):\n",
        "  for j in range(len(y)):\n",
        "    for i in range(len(x)):\n",
        "## integral numérica en cuadraturas para los campos en el centro \n",
        "      Lx = quad(dBxup, 0, 2*np.pi, args=(z[k], x[i], y[j],r)) + quad(dBxdown, 0, 2*np.pi, args=(z[k], x[i], y[j],r))\n",
        "      Bx[i][j][k] = (Lx[0] + Lx[2])*10**6 \n",
        "      Ly = quad(dByup,0,2*np.pi,args=(z[k],x[i],y[j],r)) + quad(dBydown,0,2*np.pi,args=(z[k],x[i],y[j],r)) \n",
        "      By[i][j][k] = (Ly[0] + Ly[2])*10**6\n",
        "      Lz = quad(dBzup,0,2*np.pi,args=(z[k],x[i],y[j],r)) + quad(dBzdown,0,2*np.pi,args=(z[k],x[i],y[j],r))\n",
        "      Bz[i][j][k] = (Lz[0] + Lz[2])*10**6 \n",
        "##chequeamos si se cumple o no la restricción H<1000ppm\n",
        "      if np.sqrt((Bx[i][j][k] - Bx0) ** 2 + (By[i][j][k] - By0) ** 2 + (Bz[i][j][k] - Bz0) ** 2) <= ((10 ** (-6)) * absB0 * restriccion):\n",
        "        H[i][j][k] = 1 #si se cumple, le asigno un valor +1 a H\n",
        "      else:\n",
        "        H[i][j][k] = math.nan  #si no se cumple, le asigno un valor NaN a H\n",
        "      "
      ],
      "execution_count": null,
      "outputs": []
    },
    {
      "cell_type": "markdown",
      "metadata": {
        "id": "DE_zyUwSRudY"
      },
      "source": [
        "**GRAFICOS EN Z=0 & Y=0 DE LA HOMOGENEIDAD PARA LAS BOBINAS CIRCULARES**"
      ]
    },
    {
      "cell_type": "code",
      "metadata": {
        "colab": {
          "base_uri": "https://localhost:8080/",
          "height": 590
        },
        "id": "Fyc2zJXln1Sw",
        "outputId": "01e3c2c1-e421-4241-d68b-34fc02c10489"
      },
      "source": [
        "#ploteo de la homogeneidad en xy y xz para el par de bobinas circulares\n",
        "plt.figure(1)\n",
        "plt.imshow(H[:,:,15], extent = [-r/2 , r/2, -r/2 , r/2])\n",
        "plt.xlabel('x [m]')\n",
        "plt.ylabel('y [m]')\n",
        "plt.xlim(-0.15,0.15)\n",
        "plt.ylim(-0.15,0.15)\n",
        "plt.grid()\n",
        "plt.title('Homogeneidad a 1000ppm (Bobinas circulares)')\n",
        "plt.legend(['Region en donde se cumple la restriccion'])\n",
        "\n",
        "plt.figure(2)\n",
        "plt.imshow(H[:,15,:], extent = [-r/2 , r/2, -r/2 , r/2])\n",
        "plt.ylabel('x [m]')\n",
        "plt.xlabel('z [m]')\n",
        "plt.xlim(-0.15,0.15)\n",
        "plt.ylim(-0.15,0.15)\n",
        "plt.grid()\n",
        "plt.title('Homogeneidad a 1000ppm (Bobinas circulares)')\n",
        "plt.legend(['Region en donde se cumple la restriccion'])\n",
        "\n",
        "plt.show()\n"
      ],
      "execution_count": null,
      "outputs": [
        {
          "output_type": "execute_result",
          "data": {
            "text/plain": [
              "<matplotlib.legend.Legend at 0x7f531d4c61d0>"
            ]
          },
          "metadata": {
            "tags": []
          },
          "execution_count": 27
        },
        {
          "output_type": "display_data",
          "data": {
            "image/png": "[encoded data removed]",
            "text/plain": [
              "<Figure size 432x288 with 1 Axes>"
            ]
          },
          "metadata": {
            "tags": [],
            "needs_background": "light"
          }
        },
        {
          "output_type": "display_data",
          "data": {
            "image/png": "[encoded data removed]",
            "text/plain": [
              "<Figure size 432x288 with 1 Axes>"
            ]
          },
          "metadata": {
            "tags": [],
            "needs_background": "light"
          }
        }
      ]
    },
    {
      "cell_type": "markdown",
      "metadata": {
        "id": "Q2Yk0kcFRawL"
      },
      "source": [
        "**REGION DE HOMOGENEIDAD A 1000PPM DE BOBINAS CUADRADAS**"
      ]
    },
    {
      "cell_type": "code",
      "metadata": {
        "id": "U7GuLbk3yswA"
      },
      "source": [
        "#BOBINAS CUADRADAS: CALCULO DE LA REGIÓN DE HOMOGENEIDAD\n",
        "l = 0.9 #lado  [m]\n",
        "d = 0.5445 * l # distancia de separación entre bobinas ideal\n",
        "\n",
        "x = np.linspace(-d/2, d/2, 31) #barridos espaciales en x,y,z\n",
        "y = np.linspace(-d/2, d/2, 31)\n",
        "z = np.linspace(-d/2, d/2, 31)\n",
        "Bx = np.zeros((len(x),len(y),len(z))) #inicializamos el campo\n",
        "By = np.zeros((len(x),len(y),len(z)))\n",
        "Bz = np.zeros((len(x),len(y),len(z)))\n",
        "Hsquare = np.zeros((len(x),len(y),len(z))) #inicializamos la homogeneidad\n",
        "\n",
        "restriccion = 1000 #ppm\n",
        "\n",
        "#Campos en el centro de la configuracion      \n",
        "Bz0 = SBzdown(0, 0, 0, l, d) + SBzup(0, 0, 0, l, d)\n",
        "Bx0 = SBxdown(0, 0, 0, l, d) + SBxup(0, 0, 0, l, d)\n",
        "By0 = SBydown(0, 0, 0, l, d) + SByup(0, 0, 0, l, d)\n",
        "absB0 = np.sqrt(Bx0 ** 2 + By0 ** 2 + Bz0 ** 2) #modulo del campo\n",
        "\n",
        "\n",
        "#Loop en el que calculamos el campo y la homogeneidad en cada punto x,y,z\n",
        "for k in range(len(z)):\n",
        "  for j in range(len(y)):\n",
        "    for i in range(len(x)):\n",
        "      Bx[i][j][k] = SBxdown(z[k], x[i], y[j], l, d) + SBxup(z[k], x[i], y[j], l, d)\n",
        "      By[i][j][k] = SBydown(z[k], x[i], y[j], l, d) + SByup(z[k], x[i], y[j], l, d)\n",
        "      Bz[i][j][k] = SBzdown(z[k], x[i], y[j], l, d) + SBzup(z[k], x[i], y[j], l, d)\n",
        "#chequeamos si se cumple o no que H<1000ppm\n",
        "      if np.sqrt((Bx[i][j][k] - Bx0) ** 2 + (By[i][j][k] - By0) ** 2 + (Bz[i][j][k] - Bz0) ** 2) <= ((10 ** (-6)) * absB0 * restriccion):\n",
        "        Hsquare[i][j][k] = 1 #si se cumple, le asigno un valor +1 a H\n",
        "      else:\n",
        "        Hsquare[i][j][k] = math.nan #si no se cumple, le asigno un valor NaN a H\n"
      ],
      "execution_count": null,
      "outputs": []
    },
    {
      "cell_type": "markdown",
      "metadata": {
        "id": "bD3xpGjBR_ay"
      },
      "source": [
        "**GRAFICOS EN Z=0 & Y=0 DE LA HOMOGENEIDAD PARA LAS BOBINAS CUADRADAS**"
      ]
    },
    {
      "cell_type": "code",
      "metadata": {
        "colab": {
          "base_uri": "https://localhost:8080/",
          "height": 573
        },
        "id": "LqJIF5a81Oak",
        "outputId": "c103efbb-2984-4bbf-a344-d432e0f82451"
      },
      "source": [
        "#ploteo de la homogeneidad en xy y xz para el par de bobinas cuadradas\n",
        "plt.figure(1)\n",
        "plt.imshow(Hsquare[:,:,15], extent = [-d/2 , d/2, -d/2 , d/2])\n",
        "plt.xlabel('x [m]')\n",
        "plt.ylabel('y [m]')\n",
        "plt.xlim(-0.15, 0.15)\n",
        "plt.ylim(-0.15, 0.15)\n",
        "plt.grid()\n",
        "plt.title('Homogeneidad a 1000ppm (Bobinas cuadradas)')\n",
        "plt.legend('Region en donde se cumple la restriccion')\n",
        "\n",
        "plt.figure(2)\n",
        "plt.imshow(Hsquare[:,15,:], extent = [-d/2 , d/2, -d/2 , d/2])\n",
        "plt.xlabel('z [m]')\n",
        "plt.ylabel('x [m]')\n",
        "plt.xlim(-0.15, 0.15)\n",
        "plt.ylim(-0.15, 0.15)\n",
        "plt.grid()\n",
        "plt.title('Homogeneidad a 1000ppm (Bobinas cuadradas)')\n",
        "plt.legend(['Region en donde se cumple la restriccion'])\n",
        "\n",
        "plt.show()"
      ],
      "execution_count": null,
      "outputs": [
        {
          "output_type": "display_data",
          "data": {
            "image/png": "[encoded data removed]",
            "text/plain": [
              "<Figure size 432x288 with 1 Axes>"
            ]
          },
          "metadata": {
            "tags": [],
            "needs_background": "light"
          }
        },
        {
          "output_type": "display_data",
          "data": {
            "image/png": "[encoded data removed]",
            "text/plain": [
              "<Figure size 432x288 with 1 Axes>"
            ]
          },
          "metadata": {
            "tags": [],
            "needs_background": "light"
          }
        }
      ]
    },
    {
      "cell_type": "markdown",
      "metadata": {
        "id": "uwOGd2t8SCoU"
      },
      "source": [
        "**GRAFICOS COMPARATIVOS DE REGIONES DE HOMOGENEIDAD**"
      ]
    },
    {
      "cell_type": "code",
      "metadata": {
        "colab": {
          "base_uri": "https://localhost:8080/",
          "height": 573
        },
        "id": "Bnb8qkmv23Nn",
        "outputId": "8172dc53-55f7-4714-b843-a2eea77bf0c8"
      },
      "source": [
        "#COMPARISON OF REGIONS\n",
        "plt.figure(1)\n",
        "plt.imshow(Hsquare[:,:,15], extent = [-d/2 , d/2, -d/2 , d/2], cmap='viridis')\n",
        "plt.imshow(H[:,:,15], extent = [-r/2 , r/2, -r/2 , r/2], cmap = 'Wistia')\n",
        "plt.xlabel('x [m]')\n",
        "plt.ylabel('y [m]')\n",
        "plt.grid()\n",
        "plt.legend(['Region en donde se cumple la restriccion: BOBINAS CUADRADAS','Region en donde se cumple la restriccion: BOBINAS CIRCULARES' ])\n",
        "plt.title('Homogeneidad a 1000ppm')\n",
        "\n",
        "plt.text(-0.2,0.2,'BOBINAS CUADRADAS (Violeta)')\n",
        "plt.text(-0.2,0.15,'BOBINAS CIRCULARES (Amarillo)')\n",
        "\n",
        "plt.figure(2)\n",
        "plt.imshow(Hsquare[:,16,:], extent = [-d/2 , d/2, -d/2 , d/2], cmap='viridis')\n",
        "plt.imshow(H[:,16,:], extent = [-r/2 , r/2, -r/2 , r/2], cmap = 'Wistia')\n",
        "plt.xlabel('z [m]')\n",
        "plt.ylabel('x [m]')\n",
        "plt.grid()\n",
        "plt.legend(['Region en donde se cumple la restriccion: BOBINAS CUADRADAS','Region en donde se cumple la restriccion: BOBINAS CIRCULARES' ])\n",
        "plt.title('Homogeneidad a 1000ppm')\n",
        "\n",
        "plt.text(-0.2,0.2,'BOBINAS CUADRADAS (Violeta)')\n",
        "plt.text(-0.2,0.15,'BOBINAS CIRCULARES (Amarillo)')\n",
        "\n",
        "\n",
        "\n",
        "plt.show()\n"
      ],
      "execution_count": null,
      "outputs": [
        {
          "output_type": "display_data",
          "data": {
            "image/png": "[encoded data removed]",
            "text/plain": [
              "<Figure size 432x288 with 1 Axes>"
            ]
          },
          "metadata": {
            "tags": [],
            "needs_background": "light"
          }
        },
        {
          "output_type": "display_data",
          "data": {
            "image/png": "[encoded data removed]",
            "text/plain": [
              "<Figure size 432x288 with 1 Axes>"
            ]
          },
          "metadata": {
            "tags": [],
            "needs_background": "light"
          }
        }
      ]
    }
  ]
}