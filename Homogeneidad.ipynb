{
  "nbformat": 4,
  "nbformat_minor": 0,
  "metadata": {
    "colab": {
      "name": "Homogeneidad.ipynb",
      "provenance": [],
      "collapsed_sections": [],
      "include_colab_link": true
    },
    "kernelspec": {
      "name": "python3",
      "display_name": "Python 3"
    }
  },
  "cells": [
    {
      "cell_type": "markdown",
      "metadata": {
        "id": "view-in-github",
        "colab_type": "text"
      },
      "source": [
        "<a href=\"https://colab.research.google.com/github/fedemoss/HelmholtzCage/blob/main/Homogeneidad.ipynb\" target=\"_parent\"><img src=\"https://colab.research.google.com/assets/colab-badge.svg\" alt=\"Open In Colab\"/></a>"
      ]
    },
    {
      "cell_type": "markdown",
      "metadata": {
        "id": "07f9KQTDWFtI"
      },
      "source": [
        "**El objetivo de este código es estudiar la homogeneidad (H) para las bobinas circulares y cuadradas, en función de la dimensión de las bobinas y el punto de observación**"
      ]
    },
    {
      "cell_type": "code",
      "metadata": {
        "id": "9WFSS5pkrR8r"
      },
      "source": [
        "import math\n",
        "import numpy as np\n",
        "from scipy.integrate import quad\n",
        "from numpy import sqrt, sin, cos, pi\n",
        "from matplotlib import pyplot as plt\n",
        "from scipy.optimize import curve_fit"
      ],
      "execution_count": null,
      "outputs": []
    },
    {
      "cell_type": "code",
      "metadata": {
        "id": "gx-F8VV5rWUk"
      },
      "source": [
        "## Constantes:\n",
        "## Todo está en SI\n",
        "\n",
        "N = 40  ## número de vueltas\n",
        "I = 1   ## corriente\n",
        "u0 = 1.256637062* 10 ** (-6)  ## permeabilidad magnética del vacio\n",
        "C = u0 * N * I / (4 * np.pi)  "
      ],
      "execution_count": null,
      "outputs": []
    },
    {
      "cell_type": "markdown",
      "metadata": {
        "id": "wQ5u3MjKriwM"
      },
      "source": [
        "**DEFINICIÓN CAMPO DE JAULA CIRCULAR (B)**\n"
      ]
    },
    {
      "cell_type": "code",
      "metadata": {
        "id": "SafErMVerZdl"
      },
      "source": [
        "## Término que aparece en común para todos los campos\n",
        "\n",
        "def terminoDivisorup(u, z, x, y, r, d):\n",
        "    return ((z + d/2)**2 + (x - r * cos(u))**2 + (y - r * sin(u))**2)**(3/2)\n",
        "  \n",
        "def terminoDivisordown(u, z, x, y, r, d):\n",
        "    return ((z - d/2)**2 + (x - r * cos(u))**2 + (y - r * sin(u))**2)**(3/2) \n",
        "\n",
        "## Campo en la dirección axial para las dos bobinas en cartesianas (Bz)\n",
        "\n",
        "def dBzup(u, z, x, y, r, d):\n",
        "    return C * r * (r - x * cos(u) - y * sin(u)) / terminoDivisorup(u, z, x, y, r, d)\n",
        "\n",
        "def dBzdown(u, z, x, y, r, d):\n",
        "    return C * r * (r - x * cos(u) - y * sin(u)) / terminoDivisordown(u, z, x, y, r, d) \n",
        "\n",
        "## Componente x del campo (par de bobinas)\n",
        "\n",
        "def dBxup(u, z, x, y, r, d):\n",
        "    return C * r  * (z + d/2) * cos(u)/terminoDivisorup(u, z, x, y, r, d)\n",
        " \n",
        "def dBxdown(u, z, x, y, r, d):\n",
        "    return C * r  * (z - d/2) * cos(u)/terminoDivisordown(u, z, x, y, r, d)\n",
        "\n",
        "## Componente y del campo (par de bobinas)\n",
        "\n",
        "def dByup(u, z, x, y, r, d):\n",
        "    return C * r * (z + d/2) * sin(u)/terminoDivisorup(u, z, x, y, r, d)\n",
        " \n",
        "def dBydown(u, z, x, y, r, d):\n",
        "    return C * r * (z - d/2) * sin(u)/terminoDivisordown(u, z, x, y, r, d)\n",
        "\n",
        "# Paper Restrepo: 'A comparative study of the magnetic field homogeneity for \n",
        "# circular, square and equilateral triangular Helmholtz coils'  "
      ],
      "execution_count": null,
      "outputs": []
    },
    {
      "cell_type": "markdown",
      "metadata": {
        "id": "0SU-5g9HsLGc"
      },
      "source": [
        "**DEFINICIÓN DE CAMPO DE JAULA CUADRADA (B)**"
      ]
    },
    {
      "cell_type": "code",
      "metadata": {
        "id": "SUaOe55IrrM8"
      },
      "source": [
        "## Campo en el eje axial en cartesianas (Bz)\n",
        "## La expresión es muy grande por lo tanto la separamos en varias partes\n",
        "## bobinas a d/2 y -d/2 en el eje z con respecto al centro\n",
        "\n",
        "def SBz1up(z, x, y, l, d):\n",
        "    factorcomun = (x + l / 2)/((x + l / 2) ** 2 + (z + d / 2) ** 2)\n",
        "    izquierda = (l / 2 - y) / np.sqrt((y - l /2) ** 2 + (x + l / 2) ** 2 + (z + d / 2) ** 2)\n",
        "    derecha = (l / 2 + y) / np.sqrt((y + l / 2) ** 2 + (x + l / 2) ** 2 + (z + d / 2) ** 2)\n",
        "    return C * factorcomun * (izquierda + derecha)\n",
        "\n",
        "def SBz2up(z, x, y, l, d):\n",
        "    factorcomun = (x - l / 2)/((x - l / 2) ** 2 + (z + d / 2) ** 2)\n",
        "    izquierda = (l / 2 - y) / np.sqrt((y - l /2) ** 2 + (x - l / 2) ** 2 + (z + d / 2) ** 2)\n",
        "    derecha = (l / 2 + y) / np.sqrt((y + l / 2) ** 2 + (x - l / 2) ** 2 + (z + d / 2) ** 2)\n",
        "    return C * factorcomun * (izquierda + derecha)\n",
        "\n",
        "def SBz3up(z, x, y, l, d):\n",
        "    factorcomun = (y + l / 2)/((y + l / 2) ** 2 + (z + d / 2) ** 2)\n",
        "    izquierda = (l / 2 - x) / np.sqrt((x - l /2) ** 2 + (y + l / 2) ** 2 + (z + d / 2) ** 2)     ## ojo acá\n",
        "    derecha = (l / 2 + x) / np.sqrt((y + l / 2) ** 2 + (x + l / 2) ** 2 + (z + d / 2) ** 2)\n",
        "    return C * factorcomun * (izquierda + derecha)\n",
        "\n",
        "def SBz4up(z, x, y, l, d):\n",
        "    factorcomun = (y - l / 2)/((y - l / 2) ** 2 + (z + d / 2) ** 2)\n",
        "    izquierda = (l / 2 - x) / np.sqrt((x - l /2) ** 2 + (y - l / 2) ** 2 + (z + d / 2) ** 2)\n",
        "    derecha = (l / 2 + x) / np.sqrt((y - l / 2) ** 2 + (x + l / 2) ** 2 + (z + d / 2) ** 2)\n",
        "    return C * factorcomun * (izquierda + derecha)\n",
        "\n",
        "## Este es la función que importa\n",
        "\n",
        "def SBzup(z, x, y, l, d):\n",
        "    return SBz1up(z, x, y, l, d) - SBz2up(z, x, y, l, d) + SBz3up(z, x, y, l, d) - SBz4up(z, x, y, l, d)\n",
        "\n",
        "## Campo en el eje axial para la otra bobina\n",
        "\n",
        "def SBz1down(z, x, y, l, d):\n",
        "    factorcomun = (x + l / 2)/((x + l / 2) ** 2 + (z - d / 2) ** 2)\n",
        "    izquierda = (l / 2 - y) / np.sqrt((y - l /2) ** 2 + (x + l / 2) ** 2 + (z - d / 2) ** 2)\n",
        "    derecha = (l / 2 + y) / np.sqrt((y + l / 2) ** 2 + (x + l / 2) ** 2 + (z - d / 2) ** 2)\n",
        "    return C * factorcomun * (izquierda + derecha)\n",
        "\n",
        "def SBz2down(z, x, y, l, d):\n",
        "    factorcomun = (x - l / 2)/((x - l / 2) ** 2 + (z - d / 2) ** 2)\n",
        "    izquierda = (l / 2 - y) / np.sqrt((y - l /2) ** 2 + (x - l / 2) ** 2 + (z - d / 2) ** 2)\n",
        "    derecha = (l / 2 + y) / np.sqrt((y + l / 2) ** 2 + (x - l / 2) ** 2 + (z - d / 2) ** 2)\n",
        "    return C * factorcomun * (izquierda + derecha)\n",
        "\n",
        "def SBz3down(z, x, y, l, d):\n",
        "    factorcomun = (y + l / 2)/((y + l / 2) ** 2 + (z - d / 2) ** 2)\n",
        "    izquierda = (l / 2 - x) / np.sqrt((x - l /2) ** 2 + (y + l / 2) ** 2 + (z - d / 2) ** 2)\n",
        "    derecha = (l / 2 + x) / np.sqrt((y + l / 2) ** 2 + (x + l / 2) ** 2 + (z - d / 2) ** 2)\n",
        "    return C * factorcomun * (izquierda + derecha)\n",
        "\n",
        "def SBz4down(z, x, y, l, d):\n",
        "    factorcomun = (y - l / 2)/((y - l / 2) ** 2 + (z - d / 2) ** 2)\n",
        "    izquierda = (l / 2 - x) / np.sqrt((x - l /2) ** 2 + (y - l / 2) ** 2 + (z - d / 2) ** 2)\n",
        "    derecha = (l / 2 + x) / np.sqrt((y - l / 2) ** 2 + (x + l / 2) ** 2 + (z - d / 2) ** 2)\n",
        "    return C * factorcomun * (izquierda + derecha)\n",
        "\n",
        "## Este es la otra función que importa\n",
        "\n",
        "def SBzdown(z, x, y, l, d):\n",
        "    return SBz1down(z, x, y, l, d) - SBz2down(z, x, y, l, d) + SBz3down(z, x, y, l, d) - SBz4down(z, x, y, l, d)\n",
        "\n",
        "## Campo en la componente x\n",
        "\n",
        "def SBx1up(z, x, y, l, d):\n",
        "    factorcomun = (z + d/2)/((x - l / 2) ** 2 + (z + d / 2) ** 2)\n",
        "    izquierda = (l / 2 - y) / np.sqrt((y - l /2) ** 2 + (x - l / 2) ** 2 + (z + d / 2) ** 2)\n",
        "    derecha = (l / 2 + y) / np.sqrt((y + l / 2) ** 2 + (x - l / 2) ** 2 + (z + d / 2) ** 2)\n",
        "    return C * factorcomun * (izquierda + derecha)\n",
        "\n",
        "def SBx2up(z, x, y, l, d):\n",
        "    factorcomun = (z + d/2)/((x + l / 2) ** 2 + (z + d / 2) ** 2)\n",
        "    izquierda = (l / 2 - y) / np.sqrt((y - l /2) ** 2 + (x + l / 2) ** 2 + (z + d / 2) ** 2)\n",
        "    derecha = (l / 2 + y) / np.sqrt((y + l / 2) ** 2 + (x + l / 2) ** 2 + (z + d / 2) ** 2)\n",
        "    return C * factorcomun * (izquierda + derecha)\n",
        "\n",
        "def SBxup(z, x, y, l, d):\n",
        "    return SBx1up(z, x, y, l, d) - SBx2up(z, x, y, l, d)\n",
        "\n",
        "def SBx1down(z, x, y, l, d):\n",
        "    factorcomun = (z - d/2)/((x - l / 2) ** 2 + (z - d / 2) ** 2)\n",
        "    izquierda = (l / 2 - y) / np.sqrt((y - l /2) ** 2 + (x - l / 2) ** 2 + (z - d / 2) ** 2)\n",
        "    derecha = (l / 2 + y) / np.sqrt((y + l / 2) ** 2 + (x - l / 2) ** 2 + (z - d / 2) ** 2)\n",
        "    return C * factorcomun * (izquierda + derecha)\n",
        "\n",
        "def SBx2down(z, x, y, l, d):\n",
        "    factorcomun = (z - d/2)/((x + l / 2) ** 2 + (z - d / 2) ** 2)\n",
        "    izquierda = (l / 2 - y) / np.sqrt((y - l /2) ** 2 + (x + l / 2) ** 2 + (z - d / 2) ** 2)\n",
        "    derecha = (l / 2 + y) / np.sqrt((y + l / 2) ** 2 + (x + l / 2) ** 2 + (z - d / 2) ** 2)\n",
        "    return C * factorcomun * (izquierda + derecha)\n",
        "\n",
        "def SBxdown(z, x, y, l, d):\n",
        "    return SBx1down(z, x, y, l, d) - SBx2down(z, x, y, l, d)\n",
        "\n",
        "## Campo en la componente y\n",
        "\n",
        "def SBy1up(z, x, y, l, d):\n",
        "    factorcomun = (z + d/2)/((y - l / 2) ** 2 + (z + d / 2) ** 2)\n",
        "    izquierda = (l / 2 - x) / np.sqrt((y - l /2) ** 2 + (x - l / 2) ** 2 + (z + d / 2) ** 2)\n",
        "    derecha = (l / 2 + x) / np.sqrt((y - l / 2) ** 2 + (x + l / 2) ** 2 + (z + d / 2) ** 2)\n",
        "    return C * factorcomun * (izquierda + derecha)\n",
        "\n",
        "def SBy2up(z, x, y, l, d):\n",
        "    factorcomun = (z + d/2)/((y + l / 2) ** 2 + (z + d / 2) ** 2)\n",
        "    izquierda = (l / 2 - x) / np.sqrt((y + l /2) ** 2 + (x - l / 2) ** 2 + (z + d / 2) ** 2)\n",
        "    derecha = (l / 2 + x) / np.sqrt((y + l / 2) ** 2 + (x + l / 2) ** 2 + (z + d / 2) ** 2)\n",
        "    return C * factorcomun * (izquierda + derecha)\n",
        "\n",
        "def SByup(z, x, y, l, d):\n",
        "    return SBy1up(z, x, y, l, d) - SBy2up(z, x, y, l, d)\n",
        "\n",
        "def SBy1down(z, x, y, l, d):\n",
        "    factorcomun = (z - d/2)/((y - l / 2) ** 2 + (z - d / 2) ** 2)\n",
        "    izquierda = (l / 2 - x) / np.sqrt((y - l /2) ** 2 + (x - l / 2) ** 2 + (z - d / 2) ** 2)\n",
        "    derecha = (l / 2 + x) / np.sqrt((y - l / 2) ** 2 + (x + l / 2) ** 2 + (z - d / 2) ** 2)\n",
        "    return C * factorcomun * (izquierda + derecha)\n",
        "\n",
        "def SBy2down(z, x, y, l, d):\n",
        "    factorcomun = (z - d/2)/((y + l / 2) ** 2 + (z - d / 2) ** 2)\n",
        "    izquierda = (l / 2 - x) / np.sqrt((y + l /2) ** 2 + (x - l / 2) ** 2 + (z - d / 2) ** 2)\n",
        "    derecha = (l / 2 + x) / np.sqrt((y + l / 2) ** 2 + (x + l / 2) ** 2 + (z - d / 2) ** 2)\n",
        "    return C * factorcomun * (izquierda + derecha)\n",
        "\n",
        "def SBydown(z, x, y, l, d):\n",
        "    return SBy1down(z, x, y, l, d) - SBy2down(z, x, y, l, d)   "
      ],
      "execution_count": null,
      "outputs": []
    },
    {
      "cell_type": "markdown",
      "metadata": {
        "id": "dXaAiI1KsT9w"
      },
      "source": [
        "**Veamos la variacion de B y H a lo largo del borde de un Cubesat de 1U para BOBINAS CUADRADAS**"
      ]
    },
    {
      "cell_type": "code",
      "metadata": {
        "id": "-PWnzKtEsNkF"
      },
      "source": [
        "l = 1   # longitud de la bobina [metros]\n",
        "d = 0.5445*l  # distancia de separación ideal\n",
        "\n",
        "dimensionx = 1  # tamaño del cubesat en x (en unidades U / 1U = 10cm)\n",
        "dimensiony = 1  # tamaño del cubesat en y\n",
        "dimensionz = 1  # tamaño del cubesat en z\n",
        "z = np.linspace(-d/2, d/2, 100) ## vamos a ver puntos desde una bobina hasta la otra\n",
        "y = dimensiony/20 #veamos los bordes de un Cubesat de 1U\n",
        "x = dimensionx/20\n",
        "Bzsquare = np.zeros(len(z))  # inicializamos los campos en x,y,z\n",
        "Bxsquare = np.zeros(len(z))\n",
        "Bysquare = np.zeros(len(z))\n",
        "\n",
        "Hsquare = np.zeros(len(z)) #inicializamos la homogeneidad\n",
        "#Campos en el centro\n",
        "Bzsquare0 = (SBzdown(0, 0, 0, l, d) + SBzup(0, 0, 0, l, d) )*(10 ** 6) \n",
        "Bxsquare0 = (SBxdown(0, 0, 0, l, d) + SBxup(0, 0, 0, l, d) )*(10 ** 6)\n",
        "Bysquare0 = (SBydown(0, 0, 0, l, d) + SByup(0, 0, 0, l, d) )*(10 ** 6)\n",
        "\n",
        "\n",
        "## En cada iteración calculamos los campos y la homogeneidad\n",
        "for i in range(len(z)):\n",
        "  Bzsquare[i] = (SBzdown(z[i], x, y, l, d) + SBzup(z[i], x, y, l, d) )*(10 ** 6)\n",
        "  Bxsquare[i] = (SBxdown(z[i], x, y, l, d) + SBxup(z[i], x, y, l, d) )*(10 ** 6) \n",
        "  Bysquare[i] = (SBydown(z[i], x, y, l, d) + SByup(z[i], x, y, l, d) )*(10 ** 6) \n",
        "  Hsquare[i] = (10 ** 6) * np.sqrt((Bzsquare[i] - Bzsquare0) ** 2)/np.abs(Bzsquare0)  #no consideramos campos no axiales"
      ],
      "execution_count": null,
      "outputs": []
    },
    {
      "cell_type": "markdown",
      "metadata": {
        "id": "SgIhh01Qt2Pc"
      },
      "source": [
        "**Veamos la variacion de H a lo largo del borde de un Cubesat de 1U para BOBINAS CIRCULARES**"
      ]
    },
    {
      "cell_type": "code",
      "metadata": {
        "id": "g1Sv5rtKt7kl"
      },
      "source": [
        "r = 0.5 #radio de las bobinas [metro]\n",
        "d = r #distancia de separación ideal\n",
        "dimensionx = 1  # tamaño del cubesat en x (en unidades U / 1U = 10cm)\n",
        "dimensiony = 1  # tamaño del cubesat en y\n",
        "dimensionz = 1  # tamaño del cubesat en z\n",
        "z = np.linspace(-r/2, r/2, 100) ## vamos a ver puntos desde una bobina hasta la otra\n",
        "y = dimensiony/20 #veamos los bordes de un Cubesat de 1U\n",
        "x = dimensionx/20\n",
        "BzCirc = np.zeros(len(z))  # inicializamos los campos\n",
        "BxCirc = np.zeros(len(z))\n",
        "ByCirc = np.zeros(len(z))\n",
        "HCirc = np.zeros(len(z)) #inicializamos la homogeneidad\n",
        "\n",
        "## integral numérica en cuadraturas para los campos en el centro\n",
        "Lz0 = quad(dBzup, 0, 2*np.pi, args=(0, 0, 0, r, d)) + quad(dBzdown, 0, 2*np.pi, args=(0, 0, 0, r, d)) \n",
        "Ly0 = quad(dByup, 0, 2*np.pi, args=(0, 0, 0, r, d)) + quad(dBydown, 0, 2*np.pi, args=(0, 0, 0, r, d)) \n",
        "Lx0 = quad(dBxup, 0, 2*np.pi, args=(0, 0, 0, r, d)) + quad(dBxdown, 0, 2*np.pi, args=(0, 0, 0, r, d)) \n",
        "#campos en el centro\n",
        "BzCirc0 = (Lz0[0] + Lz0[2]) * 10 **6 \n",
        "ByCirc0 = (Ly0[0] + Ly0[2]) * 10 **6\n",
        "BxCirc0 = (Lx0[0] + Lx0[2]) * 10 **6\n",
        "\n",
        "## En cada iteración calculamos los campos y la homogeneidad\n",
        "for i in range(len(z)):\n",
        "## integral numérica en cuadraturas para los campos \n",
        "  Lz = quad(dBzup, 0, 2*np.pi, args=(z[i], x, y, r, d)) + quad(dBzdown, 0, 2*np.pi, args=(z[i],x, y, r, d))  \n",
        "  Lx = quad(dBxup, 0, 2*np.pi, args=(z[i], x, y, r, d)) + quad(dBxdown, 0, 2*np.pi, args=(z[i],x, y, r, d))   \n",
        "  Ly = quad(dByup, 0, 2*np.pi, args=(z[i], x, y, r, d)) + quad(dBydown, 0, 2*np.pi, args=(z[i],x, y, r, d))  \n",
        "  BzCirc[i] = (Lz[0] + Lz[2]) * 10 **6 \n",
        "  BxCirc[i] = (Lx[0] + Lx[2]) * 10 **6\n",
        "  ByCirc[i] = (Ly[0] + Ly[2]) * 10 **6    \n",
        "## homogeneidad sobre un borde\n",
        "  HCirc[i] = (10 ** 6) * np.sqrt((BzCirc[i] - BzCirc0) ** 2)/np.abs(BzCirc0) #no consideramos campos no axiales\n"
      ],
      "execution_count": null,
      "outputs": []
    },
    {
      "cell_type": "markdown",
      "metadata": {
        "id": "EvGV4a7q1PgZ"
      },
      "source": [
        "**Veamos la variación de H con el lado L de las BOBINAS CUADRADAS**"
      ]
    },
    {
      "cell_type": "code",
      "metadata": {
        "id": "5FkL191J1Ow8"
      },
      "source": [
        "L = np.linspace(0.5,1.5,20)   # array de longitud de bobinas [metros]\n",
        "\n",
        "dimensionx = 1  # tamaño del cubesat en x (en unidades U / 1U = 10cm)\n",
        "dimensiony = 1  # tamaño del cubesat en y\n",
        "dimensionz = 1  # tamaño del cubesat en z\n",
        "z = dimensionz/20 ## vamos a ver puntos en un vertice del cubesat\n",
        "y = dimensiony/20 \n",
        "x = dimensionx/20\n",
        "\n",
        "HsquareL = np.zeros(len(L)) #inicializamos la homogeneidad\n",
        "\n",
        "## En cada iteración calculamos el campo y la homogeneidad\n",
        "for h in range(len(L)):\n",
        "  d = 0.5445*L[h]  # distancia de separación ideal\n",
        "  BzsquareL = (SBzdown(x, y, z, L[h], d) + SBzup(x, y, z, L[h], d) )*(10 ** 6) #Campo en el vértice\n",
        "  BzsquareL0 = (SBzdown(0, 0, 0, L[h], d) + SBzup(0, 0, 0, L[h], d) )*(10 ** 6) #Campo en el centro\n",
        "  HsquareL[h] = (10 ** 6) * np.sqrt((BzsquareL - BzsquareL0) ** 2)/np.abs(BzsquareL0)  "
      ],
      "execution_count": null,
      "outputs": []
    },
    {
      "cell_type": "markdown",
      "metadata": {
        "id": "T5zZduTI4BHg"
      },
      "source": [
        "**Veamos la varación de H con el radio de las BOBINAS CIRCULARES**"
      ]
    },
    {
      "cell_type": "code",
      "metadata": {
        "id": "Fn4QtfVF3_5O"
      },
      "source": [
        "R = np.linspace(0.5/2,1.5/2,20)   # array de RADIOS de bobinas [metros]\n",
        "\n",
        "dimensionx = 1  # tamaño del cubesat en x (en unidades U / 1U = 10cm)\n",
        "dimensiony = 1  # tamaño del cubesat en y\n",
        "dimensionz = 1  # tamaño del cubesat en z\n",
        "z = dimensionz/20 ## vamos a ver puntos en un vertice del cubesat\n",
        "y = dimensiony/20 \n",
        "x = dimensionx/20\n",
        "\n",
        "HCircL = np.zeros(len(R)) #inicializamos la homogeneidad\n",
        "\n",
        "## En cada iteración calculamos el campo y la homogeneidad\n",
        "for h in range(len(R)):\n",
        "  d = R[h] #distancia de separación ideal\n",
        "## integral numérica en cuadraturas para los campos en z\n",
        "  Lz = quad(dBzup, 0, 2*np.pi, args=(z, x, y, R[h], d)) + quad(dBzdown, 0, 2*np.pi, args=(z,x, y, R[h], d))   \n",
        "  BzCircL = (Lz[0] + Lz[2]) * 10 **6   \n",
        "## campo en el centro\n",
        "  Lz0 = quad(dBzup, 0, 2*np.pi, args=(0, x, y, R[h], d)) + quad(dBzdown, 0, 2*np.pi, args=(0, x, y, R[h], d)) \n",
        "  BzCircL0 = (Lz0[0] + Lz0[2]) * 10 **6\n",
        "## homogeneidad sobre un borde\n",
        "  HCircL[h] = (10 ** 6) * np.sqrt((BzCircL - BzCircL0) ** 2)/np.abs(BzCircL0) "
      ],
      "execution_count": null,
      "outputs": []
    },
    {
      "cell_type": "markdown",
      "metadata": {
        "id": "W-fEWJx-5eSc"
      },
      "source": [
        "**GRAFICOS H VS Z + AJUSTES**\n"
      ]
    },
    {
      "cell_type": "code",
      "metadata": {
        "colab": {
          "base_uri": "https://localhost:8080/",
          "height": 295
        },
        "id": "2_rRK-Cc5jZh",
        "outputId": "4540e0e0-7c43-407f-aa06-c6be91aef3cc"
      },
      "source": [
        "def cuarta(x, a ,b):\n",
        "  return a * x ** (4) + b \n",
        "\n",
        "popt1, pvar1 =curve_fit(cuarta, z, HCirc) #ajuste cuártico para las bobinas circulares\n",
        "popt2, pvar2 =curve_fit(cuarta, z, Hsquare) ##ajuste cuártico para las bobinas cuadradas\n",
        "\n",
        "plt.plot(z, HCirc, 'b.')\n",
        "plt.plot(z, Hsquare, 'r.')\n",
        "plt.plot(z, cuarta(z, *popt1))\n",
        "plt.plot(z, cuarta(z, *popt2))\n",
        "plt.xlabel('z [m]')\n",
        "plt.ylabel('H [ppm]')\n",
        "plt.legend(['Bobinas circulares','Bobinas cuadradas', 'Ajuste z^4', 'Ajuste z^4'])\n",
        "plt.title('Homogneidad sobre el borde de un Cubesat de 1U')\n",
        "\n",
        "plt.show()"
      ],
      "execution_count": null,
      "outputs": [
        {
          "output_type": "display_data",
          "data": {
            "image/png": "[encoded data removed]",
            "text/plain": [
              "<Figure size 432x288 with 1 Axes>"
            ]
          },
          "metadata": {
            "tags": [],
            "needs_background": "light"
          }
        }
      ]
    },
    {
      "cell_type": "markdown",
      "metadata": {
        "id": "pZzmGCM16zJ6"
      },
      "source": [
        "GRAFICOS H VS L + AJUSTES"
      ]
    },
    {
      "cell_type": "code",
      "metadata": {
        "colab": {
          "base_uri": "https://localhost:8080/",
          "height": 279
        },
        "id": "-cad8ISU6yKd",
        "outputId": "acab0c63-6819-4e75-8aa2-a63610055c2c"
      },
      "source": [
        "def cuartaL(x, a ,b):\n",
        "  return a * x ** (-4) + b\n",
        "\n",
        "popt1, pvar1 =curve_fit(cuartaL, L, HCircL) #ajuste cuártico para las bobinas circulares\n",
        "popt2, pvar2 =curve_fit(cuartaL, L, HsquareL) ##ajuste cuártico para las bobinas cuadradas\n",
        "\n",
        "plt.plot(L, HCircL, 'b.')\n",
        "plt.plot(L, HsquareL, 'r.')\n",
        "plt.plot(L, cuartaL(L, *popt1))\n",
        "plt.plot(L, cuartaL(L, *popt2))\n",
        "plt.xlabel('L = 2 x R [m]')\n",
        "plt.ylabel('H [ppm]')\n",
        "plt.legend(['Bobinas circulares','Bobinas cuadradas', 'Ajuste L^(-4)', 'Ajuste L^(-4)'])\n",
        "\n",
        "plt.show()"
      ],
      "execution_count": null,
      "outputs": [
        {
          "output_type": "display_data",
          "data": {
            "image/png": "[encoded data removed]",
            "text/plain": [
              "<Figure size 432x288 with 1 Axes>"
            ]
          },
          "metadata": {
            "tags": [],
            "needs_background": "light"
          }
        }
      ]
    },
    {
      "cell_type": "markdown",
      "metadata": {
        "id": "5Aoud3dZ8p-a"
      },
      "source": [
        "**MOSTREMOS POR QUÉ NO CONSIDERAMOS CAMPOS NO AXIALES EN ESTOS CÓDIGOS: GRÁFICOS B vs Z**"
      ]
    },
    {
      "cell_type": "code",
      "metadata": {
        "colab": {
          "base_uri": "https://localhost:8080/",
          "height": 573
        },
        "id": "PnRk0KeY8m36",
        "outputId": "04093af1-326d-4ca3-8bad-194e4d579bb7"
      },
      "source": [
        "plt.figure(1)\n",
        "plt.plot(z, BxCirc, 'blue')\n",
        "plt.plot(z, Bxsquare, 'red')\n",
        "plt.xlabel('z [m]')\n",
        "plt.ylabel('Bx [uT]')\n",
        "plt.legend(['Bobinas circulares', 'Bobinas cuadradas'])\n",
        "plt.title('Campo en x sobre el eje axial')\n",
        "plt.grid()\n",
        "\n",
        "plt.figure(2)\n",
        "plt.plot(z, BzCirc, 'blue')\n",
        "plt.plot(z, Bzsquare, 'red')\n",
        "plt.xlabel('z [m]')\n",
        "plt.ylabel('Bz [uT]')\n",
        "plt.legend(['Bobinas circulares', 'Bobinas cuadradas'])\n",
        "plt.title('Campo en z sobre el eje axial')\n",
        "plt.grid()\n",
        "\n",
        "plt.show()\n"
      ],
      "execution_count": null,
      "outputs": [
        {
          "output_type": "display_data",
          "data": {
            "image/png": "[encoded data removed]",
            "text/plain": [
              "<Figure size 432x288 with 1 Axes>"
            ]
          },
          "metadata": {
            "tags": [],
            "needs_background": "light"
          }
        },
        {
          "output_type": "display_data",
          "data": {
            "image/png": "[encoded data removed]",
            "text/plain": [
              "<Figure size 432x288 with 1 Axes>"
            ]
          },
          "metadata": {
            "tags": [],
            "needs_background": "light"
          }
        }
      ]
    }
  ]
}