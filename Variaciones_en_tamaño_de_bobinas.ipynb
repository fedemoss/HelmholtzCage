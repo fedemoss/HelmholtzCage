{
  "nbformat": 4,
  "nbformat_minor": 0,
  "metadata": {
    "colab": {
      "name": "Variaciones en tamaño de bobinas",
      "provenance": [],
      "collapsed_sections": [],
      "include_colab_link": true
    },
    "kernelspec": {
      "name": "python3",
      "display_name": "Python 3"
    }
  },
  "cells": [
    {
      "cell_type": "markdown",
      "metadata": {
        "id": "view-in-github",
        "colab_type": "text"
      },
      "source": [
        "<a href=\"https://colab.research.google.com/github/fedemoss/HelmholtzCage/blob/main/Variaciones_en_tama%C3%B1o_de_bobinas.ipynb\" target=\"_parent\"><img src=\"https://colab.research.google.com/assets/colab-badge.svg\" alt=\"Open In Colab\"/></a>"
      ]
    },
    {
      "cell_type": "markdown",
      "metadata": {
        "id": "DCI2Pgz8BzyE"
      },
      "source": [
        "**El objetivo de este código es estudiar como varia la homogeneidad para las bobinas cuadradas y circulares al variar el tamaño de una de las bobinas de un par (es decir, no son iguales)**"
      ]
    },
    {
      "cell_type": "code",
      "metadata": {
        "id": "8n5sIkNAZ1m2"
      },
      "source": [
        "import math\n",
        "import numpy as np\n",
        "from scipy.integrate import quad\n",
        "from numpy import sqrt, sin, cos, pi\n",
        "from matplotlib import pyplot as plt"
      ],
      "execution_count": null,
      "outputs": []
    },
    {
      "cell_type": "code",
      "metadata": {
        "id": "eo0B98x1bMZ2"
      },
      "source": [
        "## Constantes:\n",
        "## Todo está en SI:\n",
        "\n",
        "N = 40  ## Número de vueltas\n",
        "I = 1   ## corriente\n",
        "u0 = 1.256637062* 10 ** (-6)   ## permeabilidad magnética del vacío\n",
        "C = u0 * N * I / (4 * np.pi)"
      ],
      "execution_count": null,
      "outputs": []
    },
    {
      "cell_type": "markdown",
      "metadata": {
        "id": "DTEIWfr0bUcM"
      },
      "source": [
        "**DEFINICIÓN CAMPO DE JAULA CIRCULAR (ES PARA UN PAR CON SEPARACIÓN D, DE RADIO R, HAY QUE INTEGRAR ESTAS EXPRESIONES)**"
      ]
    },
    {
      "cell_type": "code",
      "metadata": {
        "id": "X1KwuJiMbMut"
      },
      "source": [
        "## Término que aparece en común para todos los campos\n",
        "\n",
        "def terminoDivisorup(u, z, x, y, r, d):\n",
        "    return ((z + d/2)**2 + (x - r * cos(u))**2 + (y - r * sin(u))**2)**(3/2)\n",
        "  \n",
        "def terminoDivisordown(u, z, x, y, r, d):\n",
        "    return ((z - d/2)**2 + (x - r * cos(u))**2 + (y - r * sin(u))**2)**(3/2) \n",
        "\n",
        "## Campo en la dirección axial para las dos bobinas en cartesianas (Bz)\n",
        "\n",
        "def dBzup(u, z, x, y, r, d):\n",
        "    return 10**(-7) * r * N * I * (r - x * cos(u) - y * sin(u)) / terminoDivisorup(u, z, x, y, r, d)\n",
        "\n",
        "def dBzdown(u, z, x, y, r, d):\n",
        "    return 10**(-7) * r * N * I * (r - x * cos(u) - y * sin(u)) / terminoDivisordown(u, z, x, y, r, d) \n",
        "\n",
        "## Componente x del campo (par de bobinas)\n",
        "\n",
        "def dBxup(u, z, x, y, r, d):\n",
        "    return 10**(-7) * r * N * I * (z + d/2) * cos(u)/terminoDivisorup(u, z, x, y, r, d)\n",
        " \n",
        "def dBxdown(u, z, x, y, r, d):\n",
        "    return 10**(-7) * r * N * I * (z - d/2) * cos(u)/terminoDivisordown(u, z, x, y, r, d)\n",
        "\n",
        "## Componente y del campo (par de bobinas)\n",
        "\n",
        "def dByup(u, z, x, y, r, d):\n",
        "    return 10**(-7) * r * N * I * (z + d/2) * sin(u)/terminoDivisorup(u, z, x, y, r, d)\n",
        " \n",
        "def dBydown(u, z, x, y, r, d):\n",
        "    return 10**(-7) * r * N * I * (z - d / 2) * sin(u)/terminoDivisordown(u, z, x, y, r, d)"
      ],
      "execution_count": null,
      "outputs": []
    },
    {
      "cell_type": "markdown",
      "metadata": {
        "id": "4hGTaH5DcprF"
      },
      "source": [
        "**DEFINICIÓN DE CAMPO DE JAULA CUADRADA (PARA UN PAR CON SEPARACIÓN D, LADO L, SÓLO COMPONENTE Z)**"
      ]
    },
    {
      "cell_type": "code",
      "metadata": {
        "id": "omoVawOHbM98"
      },
      "source": [
        "## La expresión es muy grande por lo tanto la separamos en varias partes\n",
        "## bobinas a d/2 y -d/2 en el eje z con respecto al centro\n",
        "\n",
        "def SBz1up(z, x, y, l, d):\n",
        "    factorcomun = (x + l / 2)/((x + l / 2) ** 2 + (z + d / 2) ** 2)\n",
        "    izquierda = (l / 2 - y) / np.sqrt((y - l /2) ** 2 + (x + l / 2) ** 2 + (z + d / 2) ** 2)\n",
        "    derecha = (l / 2 + y) / np.sqrt((y + l / 2) ** 2 + (x + l / 2) ** 2 + (z + d / 2) ** 2)\n",
        "    return C * factorcomun * (izquierda + derecha)\n",
        "\n",
        "def SBz2up(z, x, y, l, d):\n",
        "    factorcomun = (x - l / 2)/((x - l / 2) ** 2 + (z + d / 2) ** 2)\n",
        "    izquierda = (l / 2 - y) / np.sqrt((y - l /2) ** 2 + (x - l / 2) ** 2 + (z + d / 2) ** 2)\n",
        "    derecha = (l / 2 + y) / np.sqrt((y + l / 2) ** 2 + (x - l / 2) ** 2 + (z + d / 2) ** 2)\n",
        "    return C * factorcomun * (izquierda + derecha)\n",
        "\n",
        "def SBz3up(z, x, y, l, d):\n",
        "    factorcomun = (y + l / 2)/((y + l / 2) ** 2 + (z + d / 2) ** 2)\n",
        "    izquierda = (l / 2 - x) / np.sqrt((x - l /2) ** 2 + (y + l / 2) ** 2 + (z + d / 2) ** 2)     ## ojo acá\n",
        "    derecha = (l / 2 + x) / np.sqrt((y + l / 2) ** 2 + (x + l / 2) ** 2 + (z + d / 2) ** 2)\n",
        "    return C * factorcomun * (izquierda + derecha)\n",
        "\n",
        "def SBz4up(z, x, y, l, d):\n",
        "    factorcomun = (y - l / 2)/((y - l / 2) ** 2 + (z + d / 2) ** 2)\n",
        "    izquierda = (l / 2 - x) / np.sqrt((x - l /2) ** 2 + (y - l / 2) ** 2 + (z + d / 2) ** 2)\n",
        "    derecha = (l / 2 + x) / np.sqrt((y - l / 2) ** 2 + (x + l / 2) ** 2 + (z + d / 2) ** 2)\n",
        "    return C * factorcomun * (izquierda + derecha)\n",
        "\n",
        "## Este es el resultado que importa\n",
        "\n",
        "def SBzup(z, x, y, l, d):\n",
        "    return SBz1up(z, x, y, l, d) - SBz2up(z, x, y, l, d) + SBz3up(z, x, y, l, d) - SBz4up(z, x, y, l, d)\n",
        "\n",
        "## definición del campo para una de las bobinas\n",
        "\n",
        "def SBz1down(z, x, y, l, d):\n",
        "    factorcomun = (x + l / 2)/((x + l / 2) ** 2 + (z - d / 2) ** 2)\n",
        "    izquierda = (l / 2 - y) / np.sqrt((y - l /2) ** 2 + (x + l / 2) ** 2 + (z - d / 2) ** 2)\n",
        "    derecha = (l / 2 + y) / np.sqrt((y + l / 2) ** 2 + (x + l / 2) ** 2 + (z - d / 2) ** 2)\n",
        "    return C * factorcomun * (izquierda + derecha)\n",
        "\n",
        "def SBz2down(z, x, y, l, d):\n",
        "    factorcomun = (x - l / 2)/((x - l / 2) ** 2 + (z - d / 2) ** 2)\n",
        "    izquierda = (l / 2 - y) / np.sqrt((y - l /2) ** 2 + (x - l / 2) ** 2 + (z - d / 2) ** 2)\n",
        "    derecha = (l / 2 + y) / np.sqrt((y + l / 2) ** 2 + (x - l / 2) ** 2 + (z - d / 2) ** 2)\n",
        "    return C * factorcomun * (izquierda + derecha)\n",
        "\n",
        "def SBz3down(z, x, y, l, d):\n",
        "    factorcomun = (y + l / 2)/((y + l / 2) ** 2 + (z - d / 2) ** 2)\n",
        "    izquierda = (l / 2 - x) / np.sqrt((x - l /2) ** 2 + (y + l / 2) ** 2 + (z - d / 2) ** 2)\n",
        "    derecha = (l / 2 + x) / np.sqrt((y + l / 2) ** 2 + (x + l / 2) ** 2 + (z - d / 2) ** 2)\n",
        "    return C * factorcomun * (izquierda + derecha)\n",
        "\n",
        "def SBz4down(z, x, y, l, d):\n",
        "    factorcomun = (y - l / 2)/((y - l / 2) ** 2 + (z - d / 2) ** 2)\n",
        "    izquierda = (l / 2 - x) / np.sqrt((x - l /2) ** 2 + (y - l / 2) ** 2 + (z - d / 2) ** 2)\n",
        "    derecha = (l / 2 + x) / np.sqrt((y - l / 2) ** 2 + (x + l / 2) ** 2 + (z - d / 2) ** 2)\n",
        "    return C * factorcomun * (izquierda + derecha)\n",
        "\n",
        "## Este es el otro resultado que importa\n",
        "\n",
        "def SBzdown(z, x, y, l, d):\n",
        "    return SBz1down(z, x, y, l, d) - SBz2down(z, x, y, l, d) + SBz3down(z, x, y, l, d) - SBz4down(z, x, y, l, d)"
      ],
      "execution_count": null,
      "outputs": []
    },
    {
      "cell_type": "markdown",
      "metadata": {
        "id": "6EhDk10ztuah"
      },
      "source": [
        "**Cálculo de las variaciones de la homogeneidad para la circular**"
      ]
    },
    {
      "cell_type": "code",
      "metadata": {
        "id": "QQ0AAwk2PBQb"
      },
      "source": [
        "## ERROR de construcción: ensanchamiento dL [CIRCULAR]\n",
        "## La idea es variar el tamaño de una de las bobinas, sumandole un cachito dL\n",
        "## de longitud a una de ellas, e iterar en un array de estos valores, en base\n",
        "## a eso, ver como cambia la homogeneidad\n",
        "\n",
        "r = 0.5  # radio de la bobina\n",
        "d = r    # distancia ideal\n",
        "dL = np.linspace(0, 0.05, 50) # array de desfasajes de tamaño\n",
        "dimensionx = 1   # dimensiones del cubesat\n",
        "dimensiony = 1   \n",
        "dimensionz = 1 \n",
        "x = dimensionx/20 # bordes del CubeSat (5cm)\n",
        "y = dimensiony/20 # bordes del CubeSat (5cm)\n",
        "z = np.linspace(0, dimensionz / 20, 200) # vamos a ver desde el punto (x, y, 0) hasta el borde del CubeSat (x, y, 5cm)\n",
        "Bzcircle = np.zeros(len(z))  # array para el campo en z, variando en z\n",
        "HomogeneidadC = np.zeros(len(dL))  # array donde se guardan los valores de homogeneidad para la variación en el tamaño\n",
        "\n",
        "## Iteramos en cada valor del array de dL, y evaluamos el campo en cada punto z,\n",
        "## en el cálculo del campo le sumamos el valor dL correspondiente a la iteración\n",
        "## a una de las bobinas (sería un desfasaje global)\n",
        "## para cada valor de dL guardamos la homogeneidad en HomogeneidadC\n",
        "\n",
        "for h in range(len(dL)):\n",
        "  for i in range(len(z)):\n",
        "    # integral numérica en cuadraturas\n",
        "    Lz = quad(dBzup, 0, 2*np.pi, args=(z[i], x, y, r + dL[h], d)) + quad(dBzdown, 0, 2*np.pi, args=(z[i], x, y, r, d))\n",
        "    # Valores del campo al variar en z\n",
        "    Bzcircle[i] = (Lz[0] + Lz[2]) * 10 ** 6\n",
        "  #Campo en el centro\n",
        "  Lz0 = quad(dBzup, 0, 2*np.pi, args=(0, 0, 0, r + dL[h], d)) + quad(dBzdown, 0, 2*np.pi, args=(0, 0, 0, r, d))\n",
        "  Bz0 = (Lz0[0] + Lz0[2]) * 10 ** 6\n",
        "  # Array de homogeneidad\n",
        "  HomogeneidadC[h] = max(abs(Bzcircle - Bz0) / abs(Bz0)) * 10 ** 6\n",
        "  \n",
        "## Esto es para ponerlo de forma porcentual, así comparamos con la cuadrada\n",
        "ensanchamientocircular = (dL / (2 * r)) * 100"
      ],
      "execution_count": null,
      "outputs": []
    },
    {
      "cell_type": "code",
      "metadata": {
        "colab": {
          "base_uri": "https://localhost:8080/",
          "height": 295
        },
        "id": "8SgnbzEWjikF",
        "outputId": "6cdf9023-88f3-446d-a682-153da2591328"
      },
      "source": [
        "## Gráfico de homogeneidad versús dL (el desfasaje de tamaño) para la circular\n",
        "\n",
        "plt.plot(dL, HomogeneidadC)\n",
        "plt.xlabel('desfasaje en tamaño [m]')\n",
        "plt.ylabel('Homogeneidad [ppm]')\n",
        "plt.title('Homogeneidad en función del desfasaje en tamaño para bobinas circulares')\n",
        "plt.xlim(0,0.05)\n",
        "#plt.ylim()\n",
        "plt.grid()\n",
        "plt.show()"
      ],
      "execution_count": null,
      "outputs": [
        {
          "output_type": "display_data",
          "data": {
            "image/png": "[encoded data removed]",
            "text/plain": [
              "<Figure size 432x288 with 1 Axes>"
            ]
          },
          "metadata": {
            "tags": [],
            "needs_background": "light"
          }
        }
      ]
    },
    {
      "cell_type": "code",
      "metadata": {
        "id": "PxPthAQanQ-z"
      },
      "source": [
        "## Lo mismo que antes pero para la bobina cuadrada\n",
        "\n",
        "l = 1   # longitud de la bobina\n",
        "d = 0.5445 * l  # distancia ideal\n",
        "dL = np.linspace(0, 0.05, 50) # Hasta 5 cm de defasaje \n",
        "dimensiony = 1  # tamaño del cubesat (luego se divide para obtenerlo en cm)\n",
        "dimensionz = 1  # tamaño del cubesat\n",
        "dimensionc = 1\n",
        "y = dimensiony/20  # Borde del CubeSat (5cm)\n",
        "x = dimensionx/20  # Borde del CubeSat (5cm)\n",
        "z = np.linspace(0, dimensionz / 20, 200) # vamos a ver desde el punto (x, y, 0) hasta el borde del CubeSat (x, y, 5cm)\n",
        "Bzsquare = np.zeros(len(z))  # array para el campo en z, variando en z\n",
        "HomogeneidadS = np.zeros(len(dL))  # array donde se guardan los valores de homogeneidad para la variación en z\n",
        "\n",
        "## Lo mismo que en la circular, nada más que no es necesario realizar la integral numérica\n",
        "\n",
        "for h in range(len(dL)):\n",
        "    for i in range(len(z)):\n",
        "        Bzsquare[i] = SBzdown(z[i], x, y, l, d) + SBzup(z[i], x, y, l + dL[h], d) \n",
        "    \n",
        "    Bz0 = SBzdown(0, 0, 0, l, d) + SBzup(0, 0, 0, l + dL[h], d)\n",
        "    HomogeneidadS[h] = max(abs(Bzsquare - Bz0) / abs(Bz0)) * 10 ** 6  \n",
        "\n",
        "## Ensanchamiento de forma porcentual, para comparar con la circular\n",
        "ensanchamientocuadrado = (dL / l) * 100"
      ],
      "execution_count": null,
      "outputs": []
    },
    {
      "cell_type": "code",
      "metadata": {
        "colab": {
          "base_uri": "https://localhost:8080/",
          "height": 295
        },
        "id": "0Uav8nX7nRhV",
        "outputId": "f334b090-e48b-4bfb-8149-e03ce2635a6a"
      },
      "source": [
        "#Gráfico comparativo del ensanchamiento del tamaño (porcentaje), para la bobina circular y cuadrada\n",
        "\n",
        "plt.plot(ensanchamientocircular, HomogeneidadC,'red')\n",
        "plt.plot(ensanchamientocuadrado, HomogeneidadS,'blue')\n",
        "plt.xlabel('Ensanchamiento [%]')\n",
        "plt.ylabel('Homogeneidad [ppm]')\n",
        "plt.legend(['Bobinas circulares', 'Bobinas cuadradas'])\n",
        "plt.title('Asimetrias en las dimensiones de las bobinas')\n",
        "plt.grid()\n",
        "plt.show()"
      ],
      "execution_count": null,
      "outputs": [
        {
          "output_type": "display_data",
          "data": {
            "image/png": "[encoded data removed]",
            "text/plain": [
              "<Figure size 432x288 with 1 Axes>"
            ]
          },
          "metadata": {
            "tags": [],
            "needs_background": "light"
          }
        }
      ]
    }
  ]
}